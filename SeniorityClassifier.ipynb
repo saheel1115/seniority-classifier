{
 "cells": [
  {
   "cell_type": "code",
   "execution_count": 218,
   "id": "b8adf6b9",
   "metadata": {},
   "outputs": [],
   "source": [
    "import pandas as pd\n",
    "import json\n",
    "import dateparser\n",
    "from datetime import datetime\n",
    "import math\n",
    "import re\n",
    "from collections import Counter\n",
    "from tqdm import tqdm\n",
    "import string\n",
    "from xgboost import XGBClassifier\n",
    "from sklearn.feature_extraction.text import CountVectorizer\n",
    "from sklearn.metrics import accuracy_score, balanced_accuracy_score, confusion_matrix"
   ]
  },
  {
   "cell_type": "markdown",
   "id": "a8c095bd",
   "metadata": {},
   "source": [
    "# Data Processing"
   ]
  },
  {
   "cell_type": "markdown",
   "id": "7bbe5cb7",
   "metadata": {},
   "source": [
    "### Data Loading"
   ]
  },
  {
   "cell_type": "code",
   "execution_count": 2,
   "id": "5c87bc09",
   "metadata": {},
   "outputs": [],
   "source": [
    "class CandidateRecord():\n",
    "    def __init__(self, educations, experiences, seniority):\n",
    "        self.educations = educations\n",
    "        self.experiences = experiences\n",
    "        self.seniority = seniority\n",
    "\n",
    "class EducationRecord():\n",
    "    def __init__(self, school, description, degree, time):\n",
    "        self.school = school\n",
    "        self.description = description\n",
    "        self.degree = degree\n",
    "        self.time = time\n",
    "\n",
    "class ExperienceRecord():\n",
    "    def __init__(self, work, description, title, time, skills):\n",
    "        self.employer = work\n",
    "        self.description = description\n",
    "        self.title = title\n",
    "        self.skills = skills\n",
    "        self.time = time\n"
   ]
  },
  {
   "cell_type": "code",
   "execution_count": 3,
   "id": "034f2ad4",
   "metadata": {},
   "outputs": [],
   "source": [
    "train_filepath = \"./data/seniority.train\"\n",
    "test_filepath = \"./data/seniority.test\"\n",
    "\n",
    "def load_data(filepath):\n",
    "    candidates = []\n",
    "    with open(train_filepath, \"r\") as train_file:\n",
    "        for line in train_file:\n",
    "            record = json.loads(line.strip())\n",
    "            educations = [EducationRecord(e['school'], e['description'], e['degree'], e['time']) for e in record['education']]\n",
    "            experiences =[ExperienceRecord(e['work'], e['description'], e['title'], e['time'], e['skills']) for e in record['experience']]\n",
    "            candidate = CandidateRecord(educations, experiences, record['seniority_level'])\n",
    "            candidates.append(candidate)\n",
    "\n",
    "    return candidates\n",
    "\n",
    "train_candidates = load_data(train_filepath)\n",
    "test_candidates = load_data(test_filepath)\n",
    "\n"
   ]
  },
  {
   "cell_type": "markdown",
   "id": "7563d4a9",
   "metadata": {},
   "source": [
    "### Data Exploration"
   ]
  },
  {
   "cell_type": "code",
   "execution_count": 4,
   "id": "f80ae502",
   "metadata": {},
   "outputs": [
    {
     "data": {
      "text/plain": [
       "(29969, 29969)"
      ]
     },
     "execution_count": 4,
     "metadata": {},
     "output_type": "execute_result"
    }
   ],
   "source": [
    "len(train_candidates), len(test_candidates)"
   ]
  },
  {
   "cell_type": "code",
   "execution_count": 5,
   "id": "ec0913fc",
   "metadata": {},
   "outputs": [],
   "source": [
    "train_sen = [c.seniority for c in train_candidates]\n",
    "test_sen = [c.seniority for c in test_candidates]"
   ]
  },
  {
   "cell_type": "code",
   "execution_count": 7,
   "id": "3a5d7e3c",
   "metadata": {},
   "outputs": [
    {
     "data": {
      "text/plain": [
       "(Counter({'Entry': 9927,\n",
       "          'Senior': 3564,\n",
       "          'Mid-Level': 8947,\n",
       "          'Intern': 928,\n",
       "          'Manager': 3892,\n",
       "          'Director': 1768,\n",
       "          None: 294,\n",
       "          'Vice President': 447,\n",
       "          'CXO': 202}),\n",
       " Counter({'Entry': 9927,\n",
       "          'Senior': 3564,\n",
       "          'Mid-Level': 8947,\n",
       "          'Intern': 928,\n",
       "          'Manager': 3892,\n",
       "          'Director': 1768,\n",
       "          None: 294,\n",
       "          'Vice President': 447,\n",
       "          'CXO': 202}))"
      ]
     },
     "execution_count": 7,
     "metadata": {},
     "output_type": "execute_result"
    }
   ],
   "source": [
    "Counter(train_sen), Counter(test_sen)"
   ]
  },
  {
   "cell_type": "markdown",
   "id": "f2145eeb",
   "metadata": {},
   "source": [
    "### Data Cleaning"
   ]
  },
  {
   "cell_type": "markdown",
   "id": "4e3e8171",
   "metadata": {},
   "source": [
    "#### Time data"
   ]
  },
  {
   "cell_type": "markdown",
   "id": "4ae24800",
   "metadata": {},
   "source": [
    "Time data seems to have various formats and arbitrary values. We will have to clean these to extract duration of work experience or figure out if the candidate has completed their degree."
   ]
  },
  {
   "cell_type": "markdown",
   "id": "26b98a8d",
   "metadata": {},
   "source": [
    "The following code was written iteratively:\n",
    "- First I eye-balled the time data for various samples\n",
    "- Then I looked at text-only time data\n",
    "- Then I looked at unknown time data (empty or \"n/a\" or \"unknown\")\n",
    "- Then I added education/experience count to check if total count makes sense\n",
    "    - This revealed that for some education/experience records, we have a single time\n",
    "\n"
   ]
  },
  {
   "cell_type": "code",
   "execution_count": 9,
   "id": "23b0fc7d",
   "metadata": {},
   "outputs": [
    {
     "data": {
      "text/plain": [
       "({'', 'notKnown'}, 17054, 22866, 72403, 48242)"
      ]
     },
     "execution_count": 9,
     "metadata": {},
     "output_type": "execute_result"
    }
   ],
   "source": [
    "error_times = set()\n",
    "textual_times = set()\n",
    "textual_times_count = 0\n",
    "empty_times_count = 0\n",
    "total_times_count = 0\n",
    "education_count = 0\n",
    "for c in train_candidates:\n",
    "    for e in c.educations:\n",
    "        education_count += 1\n",
    "        if e.time == []:\n",
    "            empty_times_count += 2\n",
    "        for time in e.time:\n",
    "            total_times_count += 1\n",
    "            try:\n",
    "                if bool(re.match(r'^\\D*$', time)):\n",
    "                    textual_times.add(time)\n",
    "                    textual_times_count += 1\n",
    "            except Exception as e:\n",
    "                error_times.add(time)\n",
    "\n",
    "textual_times, textual_times_count, empty_times_count, total_times_count, education_count"
   ]
  },
  {
   "cell_type": "code",
   "execution_count": 10,
   "id": "92252627",
   "metadata": {},
   "outputs": [
    {
     "data": {
      "text/plain": [
       "({'',\n",
       "  'Aujourd’hui',\n",
       "  'Current',\n",
       "  'N/A',\n",
       "  'Present',\n",
       "  'Presente',\n",
       "  'Till Date',\n",
       "  'current',\n",
       "  'notKnown',\n",
       "  'present'},\n",
       " 989,\n",
       " 27095,\n",
       " 28,\n",
       " 293478,\n",
       " 152830)"
      ]
     },
     "execution_count": 10,
     "metadata": {},
     "output_type": "execute_result"
    }
   ],
   "source": [
    "error_times = set()\n",
    "textual_times = set()\n",
    "textual_times_count = 0\n",
    "empty_times_count = 0\n",
    "total_times_count = 0\n",
    "unknown_times_count = 0\n",
    "experience_count = 0\n",
    "for c in train_candidates:\n",
    "    for e in c.experiences:\n",
    "        experience_count += 1\n",
    "        if e.time == []:\n",
    "            empty_times_count += 2\n",
    "            unknown_times_count += 2\n",
    "        for time in e.time:\n",
    "            total_times_count += 1\n",
    "            try:\n",
    "                if time in ['', 'N/A', 'notKnown']:\n",
    "                    unknown_times_count += 1\n",
    "                if bool(re.match(r'^\\D*$', time)):\n",
    "                    textual_times.add(time)\n",
    "                    textual_times_count += 1\n",
    "            except Exception as e:\n",
    "                error_times.add(time)\n",
    "\n",
    "textual_times, unknown_times_count, textual_times_count, empty_times_count, total_times_count, experience_count"
   ]
  },
  {
   "cell_type": "markdown",
   "id": "a5df3409",
   "metadata": {},
   "source": [
    "So, for ~12% (0.5 * 23k/95k) of the education data and for ~0.16% (0.5 * 1k/300k) of the experience data, we do not have a valid time.\n",
    "\n",
    "Assumptions:\n",
    "1. I think we can ignore the time of graduation altogether since we do not have plan to extract any feature based on it. If we do want to check if, say, the person has completed their degree, then we would need a valid end time.\n",
    "\n",
    "2. We can treat the 0.16% missing times for experience data as missing data. Can choose to ignore it considering its low volume.\n",
    "\n",
    "3. I ran dateparser.parse() on all the above times and it ran successfully. Thus, I am assuming we either have valid dates or \"text-only\" dates that are shown above. If there is any date like \"2022abc\", then we count it as just another invalid date."
   ]
  },
  {
   "cell_type": "code",
   "execution_count": 11,
   "id": "d2761c2b",
   "metadata": {},
   "outputs": [
    {
     "data": {
      "text/plain": [
       "True"
      ]
     },
     "execution_count": 11,
     "metadata": {},
     "output_type": "execute_result"
    }
   ],
   "source": [
    "a = dateparser.parse(\"2022abc\")\n",
    "a == None"
   ]
  },
  {
   "cell_type": "markdown",
   "id": "4b3b89d3",
   "metadata": {},
   "source": [
    "### College Degree "
   ]
  },
  {
   "cell_type": "code",
   "execution_count": 32,
   "id": "578f086f",
   "metadata": {},
   "outputs": [],
   "source": []
  },
  {
   "cell_type": "code",
   "execution_count": 29,
   "id": "5042fd37",
   "metadata": {},
   "outputs": [
    {
     "data": {
      "text/plain": [
       "(48242,\n",
       " ['Master of Business Administration - MBA',\n",
       "  'Bachelors of Science in Business Administration with a Concentration in Marketing',\n",
       "  '',\n",
       "  'Master of Science in Finance',\n",
       "  'B.A in Applied Mathematics',\n",
       "  'GED',\n",
       "  'M.S.',\n",
       "  'Bachelor of Science',\n",
       "  'Bachelor of Arts',\n",
       "  ''])"
      ]
     },
     "execution_count": 29,
     "metadata": {},
     "output_type": "execute_result"
    }
   ],
   "source": [
    "degrees = []\n",
    "for c in train_candidates:\n",
    "    for e in c.educations:\n",
    "        degrees.append(e.degree)\n",
    "    \n",
    "len(degrees), degrees[:10]"
   ]
  },
  {
   "cell_type": "markdown",
   "id": "4449c6be",
   "metadata": {},
   "source": [
    "Need to remove punctuation to get terms like \"be\", \"bsc\", \"msc\" instead of \"b\", \"e\", \"sc\", \"m\"\n",
    "\n",
    "The above list is also cluttered by department names. We can use a standand list of departments at stop words to fix this."
   ]
  },
  {
   "cell_type": "code",
   "execution_count": 66,
   "id": "a74f37ef",
   "metadata": {},
   "outputs": [],
   "source": [
    "# Source: https://www.mydegreeguide.com/types-of-degrees/types-of-bachelor-degree/\n",
    "# The dept list given above is augmented with the individual tokens found in the dept names itself e.g. \"business administration\" => \"business\", \"administration\"\n",
    "depts = [\"architecture\", \"arts\", \"business\", \"business administration\", \"science in business\", \"canon law\", \"computer science\", \"science in computer science\", \"criminal justice\", \"science in criminal justice\", \"divinity\", \"education\", \"science in education\", \"wireless engineering\", \"engineering\", \"science in engineering\", \"science in aerospace engineering\", \"science in agricultural engineering\", \"science in biological systems\", \"science in biosystems and agricultural engineering\", \"science in biological engineering\", \"biomedical engineering\", \"science in biomedical engineering\", \"science in chemical engineering\", \"science in chemical and biomolecular engineering\", \"science in chemical and materials engineering\", \"civil engineering\", \"science in civil engineering\", \"science in civil and infrastructure engineering\", \"computer engineering\", \"science in computer engineering\", \"science in computer science and engineering\", \"science in electrical and computer engineering\", \"electrical engineering\", \"science in electrical engineering\", \"science in engineering management\", \"science in environmental engineering\", \"fiber engineering\", \"science in industrial engineering\", \"science in manufacturing engineering\", \"science in manufacturing systems engineering\", \"science in materials science and engineering\", \"science in materials engineering\", \"mechanical engineering\", \"science in mechanical engineering\", \"science in metallurgical engineering\", \"science in mining engineering\", \"science in systems\", \"software engineering\", \"science in software engineering\", \"systems engineering\", \"science in systems engineering\", \"engineering technology\", \"science in engineering technology\", \"science in civil engineering technology\", \"science in computer engineering technology\", \"science in construction engineering technology\", \"science in drafting design technology\", \"science in electrical/electronics technology\", \"science in electrical engineering technology\", \"science in electro-mechanical engineering technology\", \"science in mechanical engineering technology\", \"fine arts\", \"forestry\", \"science in forest research\", \"hebrew letters\", \"journalism\", \"laws\", \"liberal studies\", \"literature\", \"marine science\", \"music\", \"nursing\", \"science in nursing\", \"pharmacy\", \"philosophy\", \"religious education\", \"science\", \"science in chemistry\", \"technology\", 'administration', 'aerospace', 'agricultural', 'and', 'biological', 'biomedical', 'biomolecular', 'biosystems', 'canon', 'chemical', 'chemistry', 'civil', 'computer', 'construction', 'criminal', 'design', 'drafting', 'electrical', 'electro', 'electronics', 'environmental', 'fiber', 'fine', 'forest', 'hebrew', 'in', 'industrial', 'infrastructure', 'justice', 'law', 'letters', 'liberal', 'management', 'manufacturing', 'marine', 'materials', 'mechanical', 'metallurgical', 'mining', 'religious', 'research', 'software', 'studies', 'systems', 'wireless']"
   ]
  },
  {
   "cell_type": "code",
   "execution_count": 70,
   "id": "219ecf3b",
   "metadata": {},
   "outputs": [
    {
     "data": {
      "text/plain": [
       "[(10343, 'bachelor'),\n",
       " (4202, 'master'),\n",
       " (3740, 'degree'),\n",
       " (2705, 'bs'),\n",
       " (2643, 'diploma'),\n",
       " (2572, 'bachelors'),\n",
       " (1947, 'mba'),\n",
       " (1889, 'masters'),\n",
       " (1653, 'ba'),\n",
       " (1434, 'certificate'),\n",
       " (1403, 'ms'),\n",
       " (1370, 'school'),\n",
       " (1265, 'high'),\n",
       " (1235, 'high school'),\n",
       " (1162, 'bachelors degree'),\n",
       " (1085, 'information'),\n",
       " (1016, 'school diploma'),\n",
       " (866, 'associate'),\n",
       " (708, 'bachelor degree'),\n",
       " (707, 'associates'),\n",
       " (690, 'masters degree'),\n",
       " (648, 'certification'),\n",
       " (629, 'marketing'),\n",
       " (565, 'be'),\n",
       " (546, 'economics'),\n",
       " (514, 'applied'),\n",
       " (509, 'bachelor bs'),\n",
       " (477, 'phd'),\n",
       " (477, 'bsc'),\n",
       " (473, 'finance'),\n",
       " (418, 'general'),\n",
       " (396, 'master ms'),\n",
       " (394, 'international'),\n",
       " (386, 'commerce'),\n",
       " (376, 'btech'),\n",
       " (363, 'communication'),\n",
       " (346, 'mathematics'),\n",
       " (345, 'accounting'),\n",
       " (336, 'communications'),\n",
       " (301, 'ged'),\n",
       " (300, 'master degree'),\n",
       " (294, 'associates degree'),\n",
       " (286, 'bba'),\n",
       " (277, 'certified'),\n",
       " (277, 'bachelor commerce'),\n",
       " (274, 'psychology'),\n",
       " (271, 'msc'),\n",
       " (269, 'doctor'),\n",
       " (266, 'bachelor ba'),\n",
       " (251, 'sciences')]"
      ]
     },
     "execution_count": 70,
     "metadata": {},
     "output_type": "execute_result"
    }
   ],
   "source": [
    "degrees = [s.translate(str.maketrans('', '', string.punctuation)) for s in degrees]\n",
    "\n",
    "degree_vectorizer = CountVectorizer(stop_words=depts + [\"of\"], ngram_range=(1, 2), max_features=50)\n",
    "cv_fit = degree_vectorizer.fit_transform(degrees)\n",
    "popular_degrees = degree_vectorizer.get_feature_names_out()\n",
    "popular_degree_freq = cv_fit.toarray().sum(axis=0)\n",
    "\n",
    "sorted(zip(popular_degree_freq, popular_degrees), reverse=True)"
   ]
  },
  {
   "cell_type": "markdown",
   "id": "d601d2d8",
   "metadata": {},
   "source": [
    "\n",
    "This looks good!"
   ]
  },
  {
   "cell_type": "code",
   "execution_count": 119,
   "id": "9c668f90",
   "metadata": {},
   "outputs": [
    {
     "data": {
      "text/plain": [
       "array([[0, 0, 0, 0, 0, 0, 0, 0, 0, 0, 0, 0, 0, 0, 0, 1, 0, 0, 0, 0, 0, 0,\n",
       "        0, 0, 0, 0, 0, 0, 0, 0, 0, 0, 0, 0, 0, 0, 0, 0, 0, 0, 0, 0, 0, 1,\n",
       "        0, 0, 0, 0, 0, 0]], dtype=int64)"
      ]
     },
     "execution_count": 119,
     "metadata": {},
     "output_type": "execute_result"
    }
   ],
   "source": [
    "sum(degree_vectorizer.transform([\"bs\", \"ms\"])).A"
   ]
  },
  {
   "cell_type": "markdown",
   "id": "cef9655e",
   "metadata": {},
   "source": [
    "\n",
    "For titles, we don't need to remove any punctuation or other terms. We can simply count the n-grams."
   ]
  },
  {
   "cell_type": "code",
   "execution_count": 50,
   "id": "e48efa09",
   "metadata": {},
   "outputs": [
    {
     "data": {
      "text/plain": [
       "(152830,\n",
       " ['General Laborer',\n",
       "  'Produce Associate',\n",
       "  'Dietary Aide',\n",
       "  'Sr. Supply Planner',\n",
       "  'Supply Chain Manager',\n",
       "  'Master Scheduler',\n",
       "  'Master Scheduler',\n",
       "  'Master Scheduler',\n",
       "  'Master Scheduler',\n",
       "  'Material Resource Planner',\n",
       "  'Utility Worker',\n",
       "  'Ramp Agent',\n",
       "  'Lead',\n",
       "  'Roasting lead',\n",
       "  'Second Night Lead',\n",
       "  '',\n",
       "  'Fixed Income & Absolute Return Team Intern',\n",
       "  'Real Estate Team Intern',\n",
       "  'Financial Service Department Intern',\n",
       "  'Shipping Clerk',\n",
       "  'Unemployed',\n",
       "  'Lift Driver/Module Operator',\n",
       "  'Unemployed',\n",
       "  'Order Picker/Unloader',\n",
       "  'Global Environmental Expert',\n",
       "  'Global Environmental Program Manager',\n",
       "  'Global Environmental Program Manager',\n",
       "  'Senior Health, Safety & Environment Manager',\n",
       "  'Environmental Specialist, Latin America',\n",
       "  'Manager, Safety & Environment',\n",
       "  'Senior Pricing Manager',\n",
       "  'Sr. Pricing & Wireless Solution Manager',\n",
       "  'International Market Systems Engineer',\n",
       "  '',\n",
       "  'Engineering Section Manager',\n",
       "  'Senior Systems Engineer',\n",
       "  'Senior S&OP Planner',\n",
       "  'MRP Supply Chain Analyst',\n",
       "  'Financial Analyst',\n",
       "  'Sourcing Specialist - Global Energy',\n",
       "  'Inventory Planner',\n",
       "  'Operations Team Leader',\n",
       "  'Business Development Manager',\n",
       "  'Business Development Manager',\n",
       "  'Sales Deduction Manager',\n",
       "  'Business Relationship Manager',\n",
       "  'District Sales Manager',\n",
       "  'HVAC Technician',\n",
       "  '',\n",
       "  'Lead Chemical Compounder Level 2'])"
      ]
     },
     "execution_count": 50,
     "metadata": {},
     "output_type": "execute_result"
    }
   ],
   "source": [
    "titles = []\n",
    "for c in train_candidates:\n",
    "    for e in c.experiences:\n",
    "        titles.append(e.title)\n",
    "    \n",
    "len(titles), titles[:50]"
   ]
  },
  {
   "cell_type": "code",
   "execution_count": 104,
   "id": "c2be1db2",
   "metadata": {},
   "outputs": [
    {
     "data": {
      "text/plain": [
       "[(28073, 'manager'),\n",
       " (13544, 'engineer'),\n",
       " (11089, 'senior'),\n",
       " (9008, 'sales'),\n",
       " (8814, 'analyst'),\n",
       " (8733, 'software'),\n",
       " (8295, 'assistant'),\n",
       " (8027, 'intern'),\n",
       " (7810, 'director'),\n",
       " (6626, 'consultant'),\n",
       " (6365, 'business'),\n",
       " (5754, 'software engineer'),\n",
       " (5445, 'marketing'),\n",
       " (5143, 'project'),\n",
       " (4796, 'account'),\n",
       " (4630, 'associate'),\n",
       " (4569, 'development'),\n",
       " (4518, 'lead'),\n",
       " (4214, 'executive'),\n",
       " (4020, 'specialist'),\n",
       " (3583, 'operations'),\n",
       " (3425, 'developer'),\n",
       " (3356, 'sr'),\n",
       " (3039, 'coordinator'),\n",
       " (3038, 'research'),\n",
       " (3036, 'project manager'),\n",
       " (2894, 'management'),\n",
       " (2880, 'technical'),\n",
       " (2799, 'product'),\n",
       " (2697, 'customer'),\n",
       " (2599, 'services'),\n",
       " (2596, 'service'),\n",
       " (2574, 'supervisor'),\n",
       " (2494, 'data'),\n",
       " (2371, 'engineering'),\n",
       " (2329, 'account manager'),\n",
       " (2325, 'team'),\n",
       " (2292, 'support'),\n",
       " (2261, 'representative'),\n",
       " (2228, 'president'),\n",
       " (2111, 'program'),\n",
       " (2023, 'systems'),\n",
       " (1965, 'financial'),\n",
       " (1844, 'technician'),\n",
       " (1831, 'operator'),\n",
       " (1786, 'business development'),\n",
       " (1713, 'student'),\n",
       " (1708, 'leader'),\n",
       " (1691, 'member'),\n",
       " (1678, 'vice'),\n",
       " (1671, 'production'),\n",
       " (1641, 'vice president'),\n",
       " (1617, 'architect'),\n",
       " (1616, 'sales manager'),\n",
       " (1600, 'quality'),\n",
       " (1600, 'human'),\n",
       " (1595, 'global'),\n",
       " (1524, 'account executive'),\n",
       " (1427, 'business analyst'),\n",
       " (1351, 'resources'),\n",
       " (1345, 'customer service'),\n",
       " (1330, 'senior software'),\n",
       " (1313, 'human resources'),\n",
       " (1303, 'officer'),\n",
       " (1299, 'finance'),\n",
       " (1294, 'technology'),\n",
       " (1294, 'administrator'),\n",
       " (1261, 'research assistant'),\n",
       " (1225, 'staff'),\n",
       " (1195, 'regional'),\n",
       " (1186, 'designer'),\n",
       " (1163, 'corporate'),\n",
       " (1133, 'head'),\n",
       " (1104, 'senior software engineer'),\n",
       " (1091, 'program manager'),\n",
       " (1082, 'graduate'),\n",
       " (1071, 'office'),\n",
       " (1042, 'founder'),\n",
       " (1023, 'client'),\n",
       " (1009, 'principal'),\n",
       " (1007, 'solutions'),\n",
       " (998, 'partner'),\n",
       " (973, 'strategy'),\n",
       " (968, 'software developer'),\n",
       " (966, 'general'),\n",
       " (960, 'marketing manager'),\n",
       " (952, 'administrative'),\n",
       " (950, 'supply'),\n",
       " (950, 'financial analyst'),\n",
       " (938, 'enterprise'),\n",
       " (931, 'digital'),\n",
       " (917, 'professional'),\n",
       " (912, 'development manager'),\n",
       " (908, 'recruiter'),\n",
       " (904, 'hr'),\n",
       " (885, 'analytics'),\n",
       " (869, 'web'),\n",
       " (867, 'planning'),\n",
       " (859, 'maintenance'),\n",
       " (851, 'brand')]"
      ]
     },
     "execution_count": 104,
     "metadata": {},
     "output_type": "execute_result"
    }
   ],
   "source": [
    "title_vectorizer = CountVectorizer(stop_words='english', ngram_range=(1, 3), max_features=100)\n",
    "cv_fit = title_vectorizer.fit_transform(titles)\n",
    "popular_titles = title_vectorizer.get_feature_names_out()\n",
    "popular_title_freq = cv_fit.toarray().sum(axis=0)\n",
    "\n",
    "sorted(zip(popular_title_freq, popular_titles), reverse=True)"
   ]
  },
  {
   "cell_type": "markdown",
   "id": "206ee0f0",
   "metadata": {},
   "source": [
    "This list looks decent. Most of the terms give an indication of the seniority of the corresponding role. I tried `max_features = 200` and saw not so informative terms at the end, so switched to 100 and we can see that the last few terms also have good indicative information."
   ]
  },
  {
   "cell_type": "code",
   "execution_count": 122,
   "id": "6262f9fc",
   "metadata": {},
   "outputs": [
    {
     "data": {
      "text/plain": [
       "array([[0, 0, 0, 0, 0, 0, 0, 0, 0, 0, 0, 0, 0, 0, 0, 0, 0, 0, 0, 0, 0, 0,\n",
       "        0, 0, 0, 0, 0, 2, 0, 0, 0, 0, 0, 0, 0, 0, 0, 0, 0, 0, 0, 0, 0, 0,\n",
       "        0, 0, 0, 0, 0, 0, 0, 0, 0, 0, 0, 0, 0, 0, 0, 0, 0, 0, 0, 0, 0, 0,\n",
       "        0, 0, 0, 0, 0, 0, 0, 0, 0, 0, 0, 0, 0, 0, 1, 0, 1, 0, 0, 0, 0, 0,\n",
       "        0, 0, 0, 0, 0, 0, 0, 0, 0, 0, 0, 0]], dtype=int64)"
      ]
     },
     "execution_count": 122,
     "metadata": {},
     "output_type": "execute_result"
    }
   ],
   "source": [
    "sum(title_vectorizer.transform([\"software engineer\", \"machine learning engineer\"])).A"
   ]
  },
  {
   "cell_type": "code",
   "execution_count": 128,
   "id": "918ad855",
   "metadata": {},
   "outputs": [
    {
     "data": {
      "text/plain": [
       "(1361721,\n",
       " ['production',\n",
       "  'labor',\n",
       "  'floors',\n",
       "  'safety',\n",
       "  'damages',\n",
       "  'customer service',\n",
       "  'cleaning',\n",
       "  'truck',\n",
       "  'holidays',\n",
       "  'fruit',\n",
       "  'associate',\n",
       "  'display',\n",
       "  'production',\n",
       "  'breakfast',\n",
       "  'lunch',\n",
       "  'customer service',\n",
       "  'supply chain',\n",
       "  'replenishment',\n",
       "  'team',\n",
       "  'operational metrics',\n",
       "  'wip',\n",
       "  'metrics',\n",
       "  'components',\n",
       "  'customer service',\n",
       "  'supply chain',\n",
       "  'replenishment',\n",
       "  'team',\n",
       "  'operational metrics',\n",
       "  'metrics',\n",
       "  'components',\n",
       "  'wip',\n",
       "  'range planning',\n",
       "  'manufacturing',\n",
       "  'projects',\n",
       "  'planning',\n",
       "  'material planning',\n",
       "  'process',\n",
       "  'procurement',\n",
       "  'customer service',\n",
       "  'manufacturing',\n",
       "  'diverse team',\n",
       "  'project',\n",
       "  'inventory accuracy',\n",
       "  'delivery',\n",
       "  'price',\n",
       "  'purchasing',\n",
       "  'buyer',\n",
       "  'vendors',\n",
       "  'planning',\n",
       "  'inventory'])"
      ]
     },
     "execution_count": 128,
     "metadata": {},
     "output_type": "execute_result"
    }
   ],
   "source": [
    "skills = []\n",
    "for c in train_candidates:\n",
    "    for e in c.experiences:\n",
    "        if e.skills:\n",
    "            skills += e.skills\n",
    "    \n",
    "len(skills), skills[:50]"
   ]
  },
  {
   "cell_type": "code",
   "execution_count": 138,
   "id": "52618405",
   "metadata": {},
   "outputs": [
    {
     "data": {
      "text/plain": [
       "[(51347, 'management'),\n",
       " (44808, 'sales'),\n",
       " (24902, 'business'),\n",
       " (23901, 'marketing'),\n",
       " (19089, 'data'),\n",
       " (17660, 'process'),\n",
       " (17017, 'analysis'),\n",
       " (15267, 'development'),\n",
       " (14516, 'customer'),\n",
       " (14225, 'operations'),\n",
       " (13284, 'training'),\n",
       " (11384, 'strategy'),\n",
       " (10694, 'financial'),\n",
       " (10072, 'service'),\n",
       " (10001, 'quality'),\n",
       " (9407, 'product'),\n",
       " (9321, 'planning'),\n",
       " (9285, 'clients'),\n",
       " (9098, 'software'),\n",
       " (8656, 'reports'),\n",
       " (8403, 'inventory'),\n",
       " (8287, 'solutions'),\n",
       " (8250, 'projects'),\n",
       " (8218, 'team'),\n",
       " (8144, 'project'),\n",
       " (7804, 'design'),\n",
       " (7773, 'production'),\n",
       " (7720, 'leadership'),\n",
       " (7555, 'implementation'),\n",
       " (7345, 'revenue'),\n",
       " (7197, 'research'),\n",
       " (6828, 'maintenance'),\n",
       " (6720, 'budget'),\n",
       " (6552, 'web'),\n",
       " (6545, 'support'),\n",
       " (6355, 'engineering'),\n",
       " (6355, 'cost'),\n",
       " (6320, 'application'),\n",
       " (6313, 'services'),\n",
       " (6046, 'employees'),\n",
       " (6018, 'integration'),\n",
       " (5894, 'media'),\n",
       " (5736, 'safety'),\n",
       " (5702, 'database'),\n",
       " (5544, 'office'),\n",
       " (5361, 'delivery'),\n",
       " (5348, 'tools'),\n",
       " (5311, 'network'),\n",
       " (5283, 'food'),\n",
       " (5256, 'performance'),\n",
       " (5218, 'security'),\n",
       " (5097, 'events'),\n",
       " (5062, 'responsible'),\n",
       " (5003, 'market'),\n",
       " (4959, 'testing'),\n",
       " (4903, 'compliance'),\n",
       " (4874, 'oracle'),\n",
       " (4743, 'reporting'),\n",
       " (4693, 'analytics'),\n",
       " (4626, 'brand'),\n",
       " (4550, 'strategies'),\n",
       " (4480, 'sql'),\n",
       " (4426, 'communication'),\n",
       " (4398, 'satisfaction'),\n",
       " (4340, 'applications'),\n",
       " (4276, 'system'),\n",
       " (4168, 'retail'),\n",
       " (4069, 'documentation'),\n",
       " (4059, 'manufacturing'),\n",
       " (3945, 'control'),\n",
       " (3944, 'sap'),\n",
       " (3942, 'systems'),\n",
       " (3904, 'cloud'),\n",
       " (3838, 'supply'),\n",
       " (3810, 'architecture'),\n",
       " (3748, 'materials'),\n",
       " (3694, 'hr'),\n",
       " (3694, 'finance'),\n",
       " (3676, 'social'),\n",
       " (3660, 'digital'),\n",
       " (3577, 'pricing'),\n",
       " (3575, 'accounting'),\n",
       " (3553, 'infrastructure'),\n",
       " (3476, 'excel'),\n",
       " (3434, 'risk'),\n",
       " (3402, 'client'),\n",
       " (3396, 'contracts'),\n",
       " (3382, 'accounts'),\n",
       " (3361, 'cash'),\n",
       " (3358, 'java'),\n",
       " (3349, 'account'),\n",
       " (3312, 'online'),\n",
       " (3297, 'campaigns'),\n",
       " (3289, 'metrics'),\n",
       " (3285, 'requirements'),\n",
       " (3232, 'technical'),\n",
       " (3176, 'execution'),\n",
       " (3135, 'strategic'),\n",
       " (3122, 'credit'),\n",
       " (3042, 'technology'),\n",
       " (3040, 'standards'),\n",
       " (3028, 'audit'),\n",
       " (2989, 'test'),\n",
       " (2922, 'crm'),\n",
       " (2858, 'functional'),\n",
       " (2842, 'logistics'),\n",
       " (2816, 'payroll'),\n",
       " (2815, 'improvement'),\n",
       " (2766, 'advertising'),\n",
       " (2762, 'automation'),\n",
       " (2706, 'vendors'),\n",
       " (2700, 'cross'),\n",
       " (2678, 'engagement'),\n",
       " (2660, 'vendor'),\n",
       " (2650, 'international'),\n",
       " (2648, 'plans'),\n",
       " (2620, 'computer'),\n",
       " (2613, 'distribution'),\n",
       " (2610, 'plant'),\n",
       " (2590, 'mobile'),\n",
       " (2586, 'user'),\n",
       " (2573, 'consumer'),\n",
       " (2562, 'employee'),\n",
       " (2545, 'audits'),\n",
       " (2469, 'trends'),\n",
       " (2429, 'deployment'),\n",
       " (2387, 'insurance'),\n",
       " (2368, 'personnel'),\n",
       " (2337, 'hardware'),\n",
       " (2336, 'chain'),\n",
       " (2288, 'agile'),\n",
       " (2269, 'content'),\n",
       " (2268, 'access'),\n",
       " (2261, 'organization'),\n",
       " (2240, 'relations'),\n",
       " (2237, 'corporate'),\n",
       " (2206, 'email'),\n",
       " (2189, 'windows'),\n",
       " (2178, 'functions'),\n",
       " (2175, 'packaging'),\n",
       " (2172, 'practices'),\n",
       " (2165, 'recruitment'),\n",
       " (2154, 'erp'),\n",
       " (2149, 'processing'),\n",
       " (2146, 'optimization'),\n",
       " (2138, 'forecasting'),\n",
       " (2135, 'channel'),\n",
       " (2131, 'benefits'),\n",
       " (2117, 'monitoring'),\n",
       " (2109, 'plan'),\n",
       " (2102, 'growth'),\n",
       " (2096, 'administration'),\n",
       " (2085, 'microsoft'),\n",
       " (2078, 'schedule'),\n",
       " (2073, 'operation'),\n",
       " (2070, 'learning'),\n",
       " (2054, 'experience'),\n",
       " (2046, 'timely'),\n",
       " (2021, 'health'),\n",
       " (2007, 'efficiency'),\n",
       " (2006, 'communications'),\n",
       " (1995, 'productivity'),\n",
       " (1977, 'community'),\n",
       " (1971, 'records'),\n",
       " (1968, 'tax'),\n",
       " (1951, 'presentations'),\n",
       " (1942, 'basis'),\n",
       " (1907, 'professional'),\n",
       " (1902, 'javascript'),\n",
       " (1893, 'budgets'),\n",
       " (1881, 'python'),\n",
       " (1864, 'liaison'),\n",
       " (1856, 'api'),\n",
       " (1850, 'programs'),\n",
       " (1847, 'compensation'),\n",
       " (1843, 'intelligence'),\n",
       " (1840, 'server'),\n",
       " (1839, 'pipeline'),\n",
       " (1839, 'features'),\n",
       " (1833, 'promotional'),\n",
       " (1813, 'html'),\n",
       " (1806, 'storage'),\n",
       " (1797, 'competitive'),\n",
       " (1795, 'billing'),\n",
       " (1791, 'focus'),\n",
       " (1782, 'consulting'),\n",
       " (1774, 'profit'),\n",
       " (1773, 'change'),\n",
       " (1764, 'acquisition'),\n",
       " (1760, 'targets'),\n",
       " (1760, 'preparation'),\n",
       " (1756, 'specifications'),\n",
       " (1753, 'procurement'),\n",
       " (1751, 'scheduling'),\n",
       " (1710, 'legal'),\n",
       " (1699, 'organizational'),\n",
       " (1679, 'servers'),\n",
       " (1663, 'time'),\n",
       " (1642, 'recruiting'),\n",
       " (1618, 'feedback')]"
      ]
     },
     "execution_count": 138,
     "metadata": {},
     "output_type": "execute_result"
    }
   ],
   "source": [
    "skills_vectorizer_unigram = CountVectorizer(max_features=200)\n",
    "cv_fit = skills_vectorizer_unigram.fit_transform(skills)\n",
    "popular_skills = skills_vectorizer_unigram.get_feature_names_out()\n",
    "popular_skill_freq = cv_fit.toarray().sum(axis=0)\n",
    "\n",
    "sorted(zip(popular_skill_freq, popular_skills), reverse=True)"
   ]
  },
  {
   "cell_type": "markdown",
   "id": "9399a833",
   "metadata": {},
   "source": [
    "If we looked at skills n-grams in range (1, 3), we notice that they are dominated by unigrams. Thus, I have decided to take 200 unigrams and 100 bi/tri-grams (most of which are bigrams)."
   ]
  },
  {
   "cell_type": "code",
   "execution_count": 139,
   "id": "577a5748",
   "metadata": {},
   "outputs": [
    {
     "data": {
      "text/plain": [
       "[(4944, 'customer service'),\n",
       " (2753, 'social media'),\n",
       " (2602, 'business development'),\n",
       " (2275, 'supply chain'),\n",
       " (2120, 'cross functional'),\n",
       " (1738, 'project management'),\n",
       " (1723, 'sales team'),\n",
       " (1578, 'product development'),\n",
       " (1390, 'customer satisfaction'),\n",
       " (1273, 'human resources'),\n",
       " (1245, 'business requirements'),\n",
       " (1239, 'quality assurance'),\n",
       " (1204, 'management system'),\n",
       " (1193, 'data analysis'),\n",
       " (1183, 'process improvement'),\n",
       " (1141, 'software development'),\n",
       " (1126, 'business process'),\n",
       " (1087, 'change management'),\n",
       " (1061, 'continuous improvement'),\n",
       " (1006, 'account management'),\n",
       " (992, 'technical support'),\n",
       " (960, 'quality control'),\n",
       " (935, 'market research'),\n",
       " (880, 'business intelligence'),\n",
       " (877, 'performance management'),\n",
       " (851, 'risk management'),\n",
       " (818, 'business units'),\n",
       " (790, 'in house'),\n",
       " (784, 'professional services'),\n",
       " (782, 'product management'),\n",
       " (746, 'employee relations'),\n",
       " (742, 'senior management'),\n",
       " (736, 'market share'),\n",
       " (716, 'strategic planning'),\n",
       " (704, 'financial services'),\n",
       " (694, 'food safety'),\n",
       " (690, 'real time'),\n",
       " (687, 'marketing campaigns'),\n",
       " (676, 'real estate'),\n",
       " (673, 'financial statements'),\n",
       " (672, 'cost savings'),\n",
       " (668, 'inventory control'),\n",
       " (650, 'customer experience'),\n",
       " (649, 'digital marketing'),\n",
       " (648, 'design development'),\n",
       " (641, 'machine learning'),\n",
       " (638, 'process improvements'),\n",
       " (637, 'relationship management'),\n",
       " (623, 'program management'),\n",
       " (621, 'accounts receivable'),\n",
       " (616, 'marketing sales'),\n",
       " (608, 'marketing strategy'),\n",
       " (597, 'sales goals'),\n",
       " (597, 'financial reporting'),\n",
       " (584, 'inventory management'),\n",
       " (563, 'web application'),\n",
       " (559, 'accounts payable'),\n",
       " (532, 'lead generation'),\n",
       " (530, 'data management'),\n",
       " (529, 'credit card'),\n",
       " (527, 'cash flow'),\n",
       " (527, 'business plan'),\n",
       " (522, 'sql server'),\n",
       " (509, 'team lead'),\n",
       " (508, 'data analytics'),\n",
       " (505, 'revenue growth'),\n",
       " (496, 'customer support'),\n",
       " (495, 'salesforce com'),\n",
       " (493, 'go to'),\n",
       " (493, 'application development'),\n",
       " (492, 'pre sales'),\n",
       " (491, 'microsoft office'),\n",
       " (491, 'brand awareness'),\n",
       " (490, 'to market'),\n",
       " (490, 'go to market'),\n",
       " (487, 'html css'),\n",
       " (483, 'life cycle'),\n",
       " (482, 'user experience'),\n",
       " (479, 'key accounts'),\n",
       " (478, 'front end'),\n",
       " (467, 'project plans'),\n",
       " (466, 'training programs'),\n",
       " (464, 'asp net'),\n",
       " (463, 'business plans'),\n",
       " (455, 'sales operations'),\n",
       " (455, 'financial analysis'),\n",
       " (451, 'web services'),\n",
       " (450, 'sales growth'),\n",
       " (448, 'data entry'),\n",
       " (448, 'client relationships'),\n",
       " (443, 'public relations'),\n",
       " (442, 'vendor management'),\n",
       " (434, 'content management'),\n",
       " (431, 'gap analysis'),\n",
       " (430, 'user acceptance'),\n",
       " (424, 'administrative support'),\n",
       " (422, 'sales representatives'),\n",
       " (421, 'six sigma'),\n",
       " (419, 'sales support'),\n",
       " (416, 'test plans')]"
      ]
     },
     "execution_count": 139,
     "metadata": {},
     "output_type": "execute_result"
    }
   ],
   "source": [
    "skills_vectorizer_bitri = CountVectorizer(max_features=100, ngram_range=(2, 3))\n",
    "cv_fit = skills_vectorizer_bitri.fit_transform(skills)\n",
    "popular_skills = skills_vectorizer_bitri.get_feature_names_out()\n",
    "popular_skill_freq = cv_fit.toarray().sum(axis=0)\n",
    "\n",
    "sorted(zip(popular_skill_freq, popular_skills), reverse=True)"
   ]
  },
  {
   "cell_type": "code",
   "execution_count": 143,
   "id": "b392a275",
   "metadata": {},
   "outputs": [
    {
     "data": {
      "text/plain": [
       "array([0, 0, 0, 0, 0, 0, 0, 0, 0, 0, 0, 0, 0, 0, 0, 0, 0, 0, 0, 0, 0, 0,\n",
       "       0, 0, 0, 0, 0, 0, 0, 0, 0, 0, 1, 0, 0, 0, 0, 0, 0, 0, 0, 0, 0, 0,\n",
       "       0, 0, 0, 0, 0, 0, 0, 0, 0, 0, 0, 0, 0, 0, 0, 0, 0, 0, 0, 0, 0, 0,\n",
       "       0, 0, 0, 0, 0, 0, 0, 0, 0, 0, 0, 0, 0, 0, 0, 0, 0, 0, 0, 0, 0, 0,\n",
       "       0, 0, 0, 0, 0, 0, 0, 0, 0, 0, 0, 0, 0, 0, 0, 0, 0, 0, 0, 0, 0, 0,\n",
       "       0, 0, 0, 0, 0, 0, 0, 0, 0, 0, 0, 0, 0, 0, 0, 0, 0, 0, 0, 0, 0, 0,\n",
       "       0, 0, 0, 0, 0, 0, 0, 0, 0, 0, 0, 0, 0, 0, 0, 0, 0, 0, 0, 0, 0, 0,\n",
       "       0, 0, 0, 0, 0, 0, 0, 0, 0, 0, 0, 0, 0, 0, 0, 0, 0, 0, 0, 0, 0, 0,\n",
       "       0, 0, 0, 0, 0, 0, 0, 0, 0, 0, 0, 1, 0, 0, 0, 0, 0, 0, 0, 0, 0, 0,\n",
       "       0, 0], dtype=int64)"
      ]
     },
     "execution_count": 143,
     "metadata": {},
     "output_type": "execute_result"
    }
   ],
   "source": [
    "sum(skills_vectorizer_unigram.transform([\"technology\", \"engineer\", \"communication\"])).A[0]"
   ]
  },
  {
   "cell_type": "markdown",
   "id": "7206237f",
   "metadata": {},
   "source": [
    "We can use the tokenizer from Spacy if needed. Note we are using the English tokenizer here but it seems to do a decent job on French sentences too.\n",
    "\n",
    "I tried using this tokenizer instead of the default tokenizer in CountVectorizer but the combination was not playing well around punctuations. And the default tokenizer does a decent job anyway, so I decided to keep it as is."
   ]
  },
  {
   "cell_type": "code",
   "execution_count": 84,
   "id": "9e8dbf84",
   "metadata": {},
   "outputs": [],
   "source": [
    "from spacy.lang.en import English\n",
    "nlp = English()\n",
    "# Create a Tokenizer with the default settings for English\n",
    "# including punctuation rules and exceptions\n",
    "tokenizer = nlp.tokenizer\n",
    "\n",
    "doc = tokenizer(\"inventory.\\n\\u25cf Unloaded freights/pallets from trailers.\\n\\u25cf Stocked and organized shelves according to procedures and policies.\\n\\u25cf Staged promotional\")\n",
    "frenchdoc = tokenizer(\"\\u2022 V\\u00e9rifier les ingr\\u00e9dients d'adh\\u00e9sif pr\\u00e9par\\u00e9s par le journalier (deuxi\\u00e8me compte des ingr\\u00e9dients).\\n\\u2022 Ins\\u00e9rer les ingr\\u00e9dients dans le m\\u00e9langeur selon la proc\\u00e9dure \\u00e9tablie, afin d'obtenir un produit de premi\\u00e8re qualit\\u00e9 et ainsi rencontrer les normes de tests \\u00e9tablies.\\n\\u2022 Proc\\u00e9der au set-up de la ligne d'extrusion, c'est-\\u00e0-dire couteau, rouleau, \")\n"
   ]
  },
  {
   "cell_type": "code",
   "execution_count": 90,
   "id": "ab8f2980",
   "metadata": {},
   "outputs": [
    {
     "data": {
      "text/plain": [
       "(inventory.\n",
       " ● Unloaded freights/pallets from trailers.\n",
       " ● Stocked and organized shelves according to procedures and policies.\n",
       " ● Staged promotional,\n",
       " 27,\n",
       " inventory,\n",
       " spacy.tokens.token.Token)"
      ]
     },
     "execution_count": 90,
     "metadata": {},
     "output_type": "execute_result"
    }
   ],
   "source": [
    "doc, len(doc), doc[0], type(doc[0])"
   ]
  },
  {
   "cell_type": "code",
   "execution_count": 87,
   "id": "fec9f7c5",
   "metadata": {},
   "outputs": [
    {
     "data": {
      "text/plain": [
       "(• Vérifier les ingrédients d'adhésif préparés par le journalier (deuxième compte des ingrédients).\n",
       " • Insérer les ingrédients dans le mélangeur selon la procédure établie, afin d'obtenir un produit de première qualité et ainsi rencontrer les normes de tests établies.\n",
       " • Procéder au set-up de la ligne d'extrusion, c'est-à-dire couteau, rouleau, ,\n",
       " 66,\n",
       " Vérifier)"
      ]
     },
     "execution_count": 87,
     "metadata": {},
     "output_type": "execute_result"
    }
   ],
   "source": [
    "frenchdoc, len(frenchdoc), frenchdoc[1]"
   ]
  },
  {
   "cell_type": "markdown",
   "id": "6f618a8a",
   "metadata": {},
   "source": [
    "# Feature Engineering"
   ]
  },
  {
   "cell_type": "markdown",
   "id": "93735eb3",
   "metadata": {},
   "source": [
    "Here are some features we can consider for a classification task:\n",
    "1. Years of Work Experience\n",
    "    - Fairly straightforward numerical feature\n",
    "    - We will merge overlapping work experiences for simplicity -- can perhaps do a weighted sum in some fashion\n",
    "2. Education level\n",
    "    - We can have a feature corresponding to an education at each level (certificate, diploma, associate, bachelor, master, phd)\n",
    "    - We can also use a CounterVectorizer -- that should capture the above unigram terms\n",
    "3. Job Title is a strong indicator\n",
    "    - Look for the presence of certain terms, perhaps perform one-hot encoding on the n-grams\n",
    "4. Skills\n",
    "    - Can create feature vectors from skills -- same as above, we can start with a CountVectorizer for the n-grams\n",
    "    - Skills are specific to the industry/field but can be a good indicator of seniority.\n",
    "5. Work and education descriptions\n",
    "    - Can chunk the descriptions and create averaged LLM embeddings of the descriptions\n",
    "6. Company and College ranking based features\n",
    "    - If we have some ranking of various companies, we can perhaps create a feature out of this\n",
    "    - Manager or CEO at Google probably denotes higher seniority than counterparts at other companies\n",
    "\n",
    "\n",
    "*Let's start with the first four features and see how it goes*"
   ]
  },
  {
   "cell_type": "markdown",
   "id": "c7c9648f",
   "metadata": {},
   "source": [
    "### Years of Work Experience"
   ]
  },
  {
   "cell_type": "code",
   "execution_count": 12,
   "id": "d136dd5e",
   "metadata": {},
   "outputs": [
    {
     "data": {
      "text/plain": [
       "False"
      ]
     },
     "execution_count": 12,
     "metadata": {},
     "output_type": "execute_result"
    }
   ],
   "source": [
    "a = datetime(2022, 10, 10)\n",
    "b = datetime(2021, 2, 2)\n",
    "a < b"
   ]
  },
  {
   "cell_type": "code",
   "execution_count": 176,
   "id": "a443b921",
   "metadata": {},
   "outputs": [],
   "source": [
    "# Possible values of time: {'', 'Aujourd’hui', 'Current', 'N/A', 'Present', 'Presente', 'Till Date', 'current', 'notKnown', 'present'}\n",
    "unknown_time_values = set(['', 'notKnown', 'N/A', None])\n",
    "today_time_values = set(['Aujourd’hui', 'Current', 'Present', 'Presente', 'Till Date', 'current', 'present'])\n",
    "\n",
    "\n",
    "def merge_overlapping_intervals(array):\n",
    "    array.sort() # sorts by 1st element of the 2-item list\n",
    "    merged = [array[0]]\n",
    "    for current in array:\n",
    "        previous = merged[-1]\n",
    "        if current[0] <= previous[1]:\n",
    "            previous[1] = max(previous[1], current[1])\n",
    "        else:\n",
    "            merged.append(current)\n",
    "\n",
    "    return merged\n",
    "\n",
    "\n",
    "def extract_yoe(candidate: CandidateRecord):\n",
    "    work_time_ranges = []\n",
    "    for e in candidate.experiences:\n",
    "        # If insufficient/invalid times are recorded for a given experience, we ignore them\n",
    "        if len(e.time) < 2 or any([t in unknown_time_values for t in e.time]):\n",
    "            continue\n",
    "        start_time = dateparser.parse(e.time[0]) if e.time[0] not in today_time_values else dateparser.parse('today')\n",
    "        end_time = dateparser.parse(e.time[1]) if e.time[1] not in today_time_values else dateparser.parse('today')\n",
    "        work_time_ranges.append([start_time, end_time])\n",
    "    \n",
    "\n",
    "    if len(work_time_ranges) == 0:\n",
    "        return 0\n",
    "    else:\n",
    "        work_time_ranges = merge_overlapping_intervals(work_time_ranges)\n",
    "        yoe_in_months = sum([math.ceil((w[1] - w[0]).days / 30) for w in work_time_ranges]) \n",
    "        return yoe_in_months\n",
    "\n"
   ]
  },
  {
   "cell_type": "markdown",
   "id": "aeea0eaf",
   "metadata": {},
   "source": [
    "### Creating feature vectors for train and test sets"
   ]
  },
  {
   "cell_type": "code",
   "execution_count": 179,
   "id": "72522578",
   "metadata": {},
   "outputs": [
    {
     "name": "stderr",
     "output_type": "stream",
     "text": [
      "100%|██████████| 29969/29969 [24:43<00:00, 20.21it/s]  \n",
      "100%|██████████| 29969/29969 [34:31<00:00, 14.47it/s] \n"
     ]
    }
   ],
   "source": [
    "# For each candidate, we will extract the features and then create a DataFrame from the records\n",
    "# Length of feature vector = 1 (yoe) + 50 (degree) + 100 (title) + 200 (skills_uni) + 100 (skills_bitri) = 451\n",
    "from tqdm import tqdm\n",
    "\n",
    "def extract_features(c):\n",
    "    c_vector = []\n",
    "\n",
    "    c_vector.append(extract_yoe(c))\n",
    "\n",
    "    degrees = [e.degree for e in c.educations]\n",
    "    degrees = [s.translate(str.maketrans('', '', string.punctuation)) for s in degrees]\n",
    "    c_vector += sum(degree_vectorizer.transform(degrees)).A[0].tolist() if degrees else [0]*50\n",
    "    titles = [e.title for e in c.experiences]\n",
    "    c_vector += sum(title_vectorizer.transform(titles)).A[0].tolist() if titles else [0]*100\n",
    "\n",
    "    c_skills = []\n",
    "    for e in c.experiences:\n",
    "        if e.skills:\n",
    "            c_skills += e.skills\n",
    "    c_vector += sum(skills_vectorizer_unigram.transform(c_skills)).A[0].tolist() if c_skills else [0]*200\n",
    "    c_vector += sum(skills_vectorizer_bitri.transform(c_skills)).A[0].tolist() if c_skills else [0]*100\n",
    "\n",
    "    return c_vector\n",
    "    \n",
    "\n",
    "train_df = []\n",
    "for idx, c in enumerate(tqdm(train_candidates)):\n",
    "    try:\n",
    "        train_df.append(extract_features(c))\n",
    "    except Exception as e:\n",
    "        print(\"Encountered error while parsing train candidate:\", idx)\n",
    "        print(e)\n",
    "\n",
    "test_df = []\n",
    "for idx, c in enumerate(tqdm(test_candidates)):\n",
    "    try:\n",
    "        test_df.append(extract_features(c))\n",
    "    except Exception as e:\n",
    "        print(\"Encountered error while parsing test candidate:\", idx)\n",
    "        print(e)\n",
    "    "
   ]
  },
  {
   "cell_type": "code",
   "execution_count": 180,
   "id": "7b86bb69",
   "metadata": {},
   "outputs": [
    {
     "data": {
      "text/plain": [
       "(29969, 451)"
      ]
     },
     "execution_count": 180,
     "metadata": {},
     "output_type": "execute_result"
    }
   ],
   "source": [
    "len(train_df), len(train_df[0])"
   ]
  },
  {
   "cell_type": "markdown",
   "id": "0b15e929",
   "metadata": {},
   "source": [
    "### Create train and test datasets"
   ]
  },
  {
   "cell_type": "code",
   "execution_count": 203,
   "id": "c4bd9f5f",
   "metadata": {},
   "outputs": [],
   "source": [
    "label_map = {\n",
    "    None: -1,\n",
    "    \"Intern\": 0,\n",
    "    \"Entry\": 1,\n",
    "    \"Mid-Level\": 2,\n",
    "    \"Senior\": 3,\n",
    "    \"Manager\": 4,\n",
    "    \"Director\": 5,\n",
    "    \"Vice President\": 6,\n",
    "    \"CXO\": 7\n",
    "}\n",
    "\n",
    "y_train = [label_map[c.seniority] for c in train_candidates]\n",
    "y_test = [label_map[c.seniority] for c in test_candidates]"
   ]
  },
  {
   "cell_type": "code",
   "execution_count": 204,
   "id": "128c8648",
   "metadata": {},
   "outputs": [
    {
     "data": {
      "text/plain": [
       "(294, 294)"
      ]
     },
     "execution_count": 204,
     "metadata": {},
     "output_type": "execute_result"
    }
   ],
   "source": [
    "bad_train_indices = [idx for idx, label in enumerate(y_train) if label == -1]\n",
    "bad_test_indices = [idx for idx, label in enumerate(y_test) if label == -1]\n",
    "\n",
    "len(bad_train_indices), len(bad_test_indices)"
   ]
  },
  {
   "cell_type": "code",
   "execution_count": 200,
   "id": "5d060bf7",
   "metadata": {},
   "outputs": [],
   "source": [
    "X_train = pd.DataFrame(train_df)\n",
    "X_test = pd.DataFrame(test_df)\n",
    "\n",
    "X_train = X_train.drop(index=bad_train_indices)\n",
    "X_test = X_test.drop(index=bad_test_indices)\n"
   ]
  },
  {
   "cell_type": "code",
   "execution_count": 205,
   "id": "f6a77ae0",
   "metadata": {},
   "outputs": [],
   "source": [
    "y_train = [label for idx, label in enumerate(y_train) if idx not in bad_train_indices]\n",
    "y_test = [label for idx, label in enumerate(y_test) if idx not in bad_test_indices]"
   ]
  },
  {
   "cell_type": "code",
   "execution_count": 206,
   "id": "fab764da",
   "metadata": {},
   "outputs": [
    {
     "data": {
      "text/plain": [
       "((29675, 451), (29675, 451), 29675, 29675)"
      ]
     },
     "execution_count": 206,
     "metadata": {},
     "output_type": "execute_result"
    }
   ],
   "source": [
    "\n",
    "X_train.shape, X_test.shape, len(y_train), len(y_test)"
   ]
  },
  {
   "cell_type": "markdown",
   "id": "9970cbe5",
   "metadata": {},
   "source": [
    "# Model Training"
   ]
  },
  {
   "cell_type": "code",
   "execution_count": 250,
   "id": "4fb9ee38",
   "metadata": {},
   "outputs": [
    {
     "data": {
      "text/html": [
       "<style>#sk-container-id-9 {color: black;background-color: white;}#sk-container-id-9 pre{padding: 0;}#sk-container-id-9 div.sk-toggleable {background-color: white;}#sk-container-id-9 label.sk-toggleable__label {cursor: pointer;display: block;width: 100%;margin-bottom: 0;padding: 0.3em;box-sizing: border-box;text-align: center;}#sk-container-id-9 label.sk-toggleable__label-arrow:before {content: \"▸\";float: left;margin-right: 0.25em;color: #696969;}#sk-container-id-9 label.sk-toggleable__label-arrow:hover:before {color: black;}#sk-container-id-9 div.sk-estimator:hover label.sk-toggleable__label-arrow:before {color: black;}#sk-container-id-9 div.sk-toggleable__content {max-height: 0;max-width: 0;overflow: hidden;text-align: left;background-color: #f0f8ff;}#sk-container-id-9 div.sk-toggleable__content pre {margin: 0.2em;color: black;border-radius: 0.25em;background-color: #f0f8ff;}#sk-container-id-9 input.sk-toggleable__control:checked~div.sk-toggleable__content {max-height: 200px;max-width: 100%;overflow: auto;}#sk-container-id-9 input.sk-toggleable__control:checked~label.sk-toggleable__label-arrow:before {content: \"▾\";}#sk-container-id-9 div.sk-estimator input.sk-toggleable__control:checked~label.sk-toggleable__label {background-color: #d4ebff;}#sk-container-id-9 div.sk-label input.sk-toggleable__control:checked~label.sk-toggleable__label {background-color: #d4ebff;}#sk-container-id-9 input.sk-hidden--visually {border: 0;clip: rect(1px 1px 1px 1px);clip: rect(1px, 1px, 1px, 1px);height: 1px;margin: -1px;overflow: hidden;padding: 0;position: absolute;width: 1px;}#sk-container-id-9 div.sk-estimator {font-family: monospace;background-color: #f0f8ff;border: 1px dotted black;border-radius: 0.25em;box-sizing: border-box;margin-bottom: 0.5em;}#sk-container-id-9 div.sk-estimator:hover {background-color: #d4ebff;}#sk-container-id-9 div.sk-parallel-item::after {content: \"\";width: 100%;border-bottom: 1px solid gray;flex-grow: 1;}#sk-container-id-9 div.sk-label:hover label.sk-toggleable__label {background-color: #d4ebff;}#sk-container-id-9 div.sk-serial::before {content: \"\";position: absolute;border-left: 1px solid gray;box-sizing: border-box;top: 0;bottom: 0;left: 50%;z-index: 0;}#sk-container-id-9 div.sk-serial {display: flex;flex-direction: column;align-items: center;background-color: white;padding-right: 0.2em;padding-left: 0.2em;position: relative;}#sk-container-id-9 div.sk-item {position: relative;z-index: 1;}#sk-container-id-9 div.sk-parallel {display: flex;align-items: stretch;justify-content: center;background-color: white;position: relative;}#sk-container-id-9 div.sk-item::before, #sk-container-id-9 div.sk-parallel-item::before {content: \"\";position: absolute;border-left: 1px solid gray;box-sizing: border-box;top: 0;bottom: 0;left: 50%;z-index: -1;}#sk-container-id-9 div.sk-parallel-item {display: flex;flex-direction: column;z-index: 1;position: relative;background-color: white;}#sk-container-id-9 div.sk-parallel-item:first-child::after {align-self: flex-end;width: 50%;}#sk-container-id-9 div.sk-parallel-item:last-child::after {align-self: flex-start;width: 50%;}#sk-container-id-9 div.sk-parallel-item:only-child::after {width: 0;}#sk-container-id-9 div.sk-dashed-wrapped {border: 1px dashed gray;margin: 0 0.4em 0.5em 0.4em;box-sizing: border-box;padding-bottom: 0.4em;background-color: white;}#sk-container-id-9 div.sk-label label {font-family: monospace;font-weight: bold;display: inline-block;line-height: 1.2em;}#sk-container-id-9 div.sk-label-container {text-align: center;}#sk-container-id-9 div.sk-container {/* jupyter's `normalize.less` sets `[hidden] { display: none; }` but bootstrap.min.css set `[hidden] { display: none !important; }` so we also need the `!important` here to be able to override the default hidden behavior on the sphinx rendered scikit-learn.org. See: https://github.com/scikit-learn/scikit-learn/issues/21755 */display: inline-block !important;position: relative;}#sk-container-id-9 div.sk-text-repr-fallback {display: none;}</style><div id=\"sk-container-id-9\" class=\"sk-top-container\"><div class=\"sk-text-repr-fallback\"><pre>XGBClassifier(base_score=None, booster=None, callbacks=None,\n",
       "              colsample_bylevel=None, colsample_bynode=None,\n",
       "              colsample_bytree=None, early_stopping_rounds=None,\n",
       "              enable_categorical=False, eval_metric=None, feature_types=None,\n",
       "              gamma=None, gpu_id=0, grow_policy=None, importance_type=None,\n",
       "              interaction_constraints=None, learning_rate=0.03, max_bin=None,\n",
       "              max_cat_threshold=None, max_cat_to_onehot=None,\n",
       "              max_delta_step=None, max_depth=15, max_leaves=None,\n",
       "              min_child_weight=None, missing=nan, monotone_constraints=None,\n",
       "              n_estimators=300, n_jobs=-1, num_parallel_tree=None,\n",
       "              objective=&#x27;multi:softprob&#x27;, predictor=None, ...)</pre><b>In a Jupyter environment, please rerun this cell to show the HTML representation or trust the notebook. <br />On GitHub, the HTML representation is unable to render, please try loading this page with nbviewer.org.</b></div><div class=\"sk-container\" hidden><div class=\"sk-item\"><div class=\"sk-estimator sk-toggleable\"><input class=\"sk-toggleable__control sk-hidden--visually\" id=\"sk-estimator-id-9\" type=\"checkbox\" checked><label for=\"sk-estimator-id-9\" class=\"sk-toggleable__label sk-toggleable__label-arrow\">XGBClassifier</label><div class=\"sk-toggleable__content\"><pre>XGBClassifier(base_score=None, booster=None, callbacks=None,\n",
       "              colsample_bylevel=None, colsample_bynode=None,\n",
       "              colsample_bytree=None, early_stopping_rounds=None,\n",
       "              enable_categorical=False, eval_metric=None, feature_types=None,\n",
       "              gamma=None, gpu_id=0, grow_policy=None, importance_type=None,\n",
       "              interaction_constraints=None, learning_rate=0.03, max_bin=None,\n",
       "              max_cat_threshold=None, max_cat_to_onehot=None,\n",
       "              max_delta_step=None, max_depth=15, max_leaves=None,\n",
       "              min_child_weight=None, missing=nan, monotone_constraints=None,\n",
       "              n_estimators=300, n_jobs=-1, num_parallel_tree=None,\n",
       "              objective=&#x27;multi:softprob&#x27;, predictor=None, ...)</pre></div></div></div></div></div>"
      ],
      "text/plain": [
       "XGBClassifier(base_score=None, booster=None, callbacks=None,\n",
       "              colsample_bylevel=None, colsample_bynode=None,\n",
       "              colsample_bytree=None, early_stopping_rounds=None,\n",
       "              enable_categorical=False, eval_metric=None, feature_types=None,\n",
       "              gamma=None, gpu_id=0, grow_policy=None, importance_type=None,\n",
       "              interaction_constraints=None, learning_rate=0.03, max_bin=None,\n",
       "              max_cat_threshold=None, max_cat_to_onehot=None,\n",
       "              max_delta_step=None, max_depth=15, max_leaves=None,\n",
       "              min_child_weight=None, missing=nan, monotone_constraints=None,\n",
       "              n_estimators=300, n_jobs=-1, num_parallel_tree=None,\n",
       "              objective='multi:softprob', predictor=None, ...)"
      ]
     },
     "execution_count": 250,
     "metadata": {},
     "output_type": "execute_result"
    }
   ],
   "source": [
    "clf = XGBClassifier(n_estimators=300, max_depth=15, learning_rate=0.03, n_jobs=-1, gpu_id=0, tree_method=\"gpu_hist\")\n",
    "clf.fit(X_train, y_train)"
   ]
  },
  {
   "cell_type": "markdown",
   "id": "1348760a",
   "metadata": {},
   "source": [
    "# Evaluation"
   ]
  },
  {
   "cell_type": "code",
   "execution_count": 251,
   "id": "80e692ed",
   "metadata": {},
   "outputs": [
    {
     "data": {
      "text/plain": [
       "(0.978904802021904, 0.9793757609132243)"
      ]
     },
     "execution_count": 251,
     "metadata": {},
     "output_type": "execute_result"
    }
   ],
   "source": [
    "train_preds = clf.predict(X_train)\n",
    "accuracy_score(y_train, train_preds), balanced_accuracy_score(y_train, train_preds)"
   ]
  },
  {
   "cell_type": "code",
   "execution_count": 252,
   "id": "5ce64a7b",
   "metadata": {},
   "outputs": [],
   "source": [
    "preds = clf.predict(X_test)\n"
   ]
  },
  {
   "cell_type": "code",
   "execution_count": 253,
   "id": "405f4902",
   "metadata": {},
   "outputs": [
    {
     "data": {
      "text/plain": [
       "(0.978904802021904, 0.9793757609132243)"
      ]
     },
     "execution_count": 253,
     "metadata": {},
     "output_type": "execute_result"
    }
   ],
   "source": [
    "\n",
    "accuracy_score(y_test, preds), balanced_accuracy_score(y_test, preds)"
   ]
  },
  {
   "cell_type": "code",
   "execution_count": 254,
   "id": "89a08992",
   "metadata": {},
   "outputs": [
    {
     "data": {
      "text/plain": [
       "array([[ 903,   21,    2,    2,    0,    0,    0,    0],\n",
       "       [  13, 9649,  232,   10,   21,    1,    1,    0],\n",
       "       [   2,  132, 8694,   39,   71,    9,    0,    0],\n",
       "       [   0,    6,   10, 3542,    5,    1,    0,    0],\n",
       "       [   0,    6,   15,    1, 3869,    1,    0,    0],\n",
       "       [   0,    4,    2,    1,    1, 1760,    0,    0],\n",
       "       [   0,    3,    2,    1,    1,    0,  440,    0],\n",
       "       [   0,    2,    7,    0,    1,    0,    0,  192]], dtype=int64)"
      ]
     },
     "execution_count": 254,
     "metadata": {},
     "output_type": "execute_result"
    }
   ],
   "source": [
    "confusion_matrix(y_test, preds)"
   ]
  },
  {
   "cell_type": "code",
   "execution_count": null,
   "id": "6fbb4a50",
   "metadata": {},
   "outputs": [],
   "source": []
  }
 ],
 "metadata": {
  "kernelspec": {
   "display_name": "Python 3 (ipykernel)",
   "language": "python",
   "name": "python3"
  },
  "language_info": {
   "codemirror_mode": {
    "name": "ipython",
    "version": 3
   },
   "file_extension": ".py",
   "mimetype": "text/x-python",
   "name": "python",
   "nbconvert_exporter": "python",
   "pygments_lexer": "ipython3",
   "version": "3.10.12"
  }
 },
 "nbformat": 4,
 "nbformat_minor": 5
}
